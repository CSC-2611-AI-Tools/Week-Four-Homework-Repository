{
 "cells": [
  {
   "cell_type": "markdown",
   "metadata": {},
   "source": [
    "# Pandas Performance\n",
    "\n",
    "In this notebook we will be exploring the performance differences between different approaches of iterating through a Pandas column.  \n",
    "\n",
    "First we will start by loading our data.  The data is from Lyft's Go Bike program and inclues every trip from 2017: https://www.lyft.com/bikes/bay-wheels/system-data"
   ]
  },
  {
   "cell_type": "code",
   "execution_count": 1,
   "metadata": {},
   "outputs": [],
   "source": [
    "import pandas as pd\n",
    "import time\n",
    "\n",
    "df = pd.read_csv('2017-fordgobike-tripdata.csv', \n",
    "                 dtype={\"start_station_latitude\":float, \"start_station_longitude\":float,\n",
    "                       \"end_station_latitude\":float, \"end_station_longitude\":float})"
   ]
  },
  {
   "cell_type": "code",
   "execution_count": 2,
   "metadata": {},
   "outputs": [],
   "source": [
    "benchmarking_results = []"
   ]
  },
  {
   "cell_type": "markdown",
   "metadata": {},
   "source": [
    "Next we define a function to calculate distance based on two GPS locations"
   ]
  },
  {
   "cell_type": "code",
   "execution_count": 3,
   "metadata": {},
   "outputs": [],
   "source": [
    "import numpy as np\n",
    "\n",
    "# Define a basic Haversine distance formula\n",
    "def haversine(lat1, lon1, lat2, lon2):\n",
    "    MILES = 3959\n",
    "    lat1, lon1, lat2, lon2 = map(np.deg2rad, [lat1, lon1, lat2, lon2])\n",
    "    dlat = lat2 - lat1 \n",
    "    dlon = lon2 - lon1 \n",
    "    a = np.sin(dlat/2)**2 + np.cos(lat1) * np.cos(lat2) * np.sin(dlon/2)**2\n",
    "    c = 2 * np.arcsin(np.sqrt(a)) \n",
    "    total_miles = MILES * c\n",
    "    return total_miles"
   ]
  },
  {
   "cell_type": "markdown",
   "metadata": {},
   "source": [
    "First, let's try iterating through the dataframe using `iterrows()`"
   ]
  },
  {
   "cell_type": "code",
   "execution_count": 4,
   "metadata": {},
   "outputs": [],
   "source": [
    "wall_time_1 = time.time()\n",
    "CPU_time_1 = time.process_time()\n",
    "haversine_series = []\n",
    "for index, row in df.iterrows():\n",
    "    haversine_series.append(haversine(row['start_station_latitude'], row['start_station_longitude'], \n",
    "                                      row['end_station_latitude'], row['end_station_longitude']))\n",
    "df['distance'] = haversine_series\n",
    "end_wall_time_1 = time.time()\n",
    "end_CPU_time_1 = time.process_time()\n",
    "execution_wall_time_1 = end_wall_time_1 - wall_time_1\n",
    "execution_CPU_time_1 = end_CPU_time_1 - CPU_time_1\n",
    "benchmarking_results.append(['Using the iterrows() method', execution_wall_time_1, execution_CPU_time_1])"
   ]
  },
  {
   "cell_type": "markdown",
   "metadata": {},
   "source": [
    "The next approach is to loop through the dataframe using `iloc`"
   ]
  },
  {
   "cell_type": "code",
   "execution_count": 5,
   "metadata": {},
   "outputs": [],
   "source": [
    "wall_time_2 = time.time()\n",
    "CPU_time_2 = time.process_time()\n",
    "def haversine_looping(df):\n",
    "    distance_list = []\n",
    "    for i in range(0, len(df)):\n",
    "        d = haversine(df['start_station_latitude'].iloc[i], df['start_station_longitude'].iloc[i], \n",
    "                      df['end_station_latitude'].iloc[i], df['end_station_longitude'].iloc[i])\n",
    "        distance_list.append(d)\n",
    "    return distance_list\n",
    "df['distance'] = haversine_looping(df)\n",
    "end_wall_time_2 = time.time()\n",
    "end_CPU_time_2 = time.process_time()\n",
    "execution_wall_time_2 = end_wall_time_2 - wall_time_2\n",
    "execution_CPU_time_2 = end_CPU_time_2 - CPU_time_2\n",
    "benchmarking_results.append(['Using the iloc() method', execution_wall_time_2, execution_CPU_time_2])"
   ]
  },
  {
   "cell_type": "markdown",
   "metadata": {},
   "source": [
    "Add benchmarking to the previous cells, and take a moment to reflect on these result.  Is iterrows() or iloc() faster?"
   ]
  },
  {
   "cell_type": "markdown",
   "metadata": {},
   "source": [
    "Next, lets use some functional programming!  Try using `apply`"
   ]
  },
  {
   "cell_type": "code",
   "execution_count": 6,
   "metadata": {},
   "outputs": [],
   "source": [
    "df['distance'] = df.apply(lambda row: haversine(row['start_station_latitude'], \\\n",
    "                                                      row['start_station_longitude'], \\\n",
    "                                                      row['end_station_latitude'], \\\n",
    "                                                      row['end_station_longitude']), axis=1)"
   ]
  },
  {
   "cell_type": "markdown",
   "metadata": {},
   "source": [
    "Lets vectorize!"
   ]
  },
  {
   "cell_type": "code",
   "execution_count": 7,
   "metadata": {},
   "outputs": [],
   "source": [
    "wall_time_3 = time.time()\n",
    "CPU_time_3 = time.process_time()\n",
    "df['distance'] = haversine(df['start_station_latitude'], df['start_station_longitude'], \\\n",
    "                                 df['end_station_latitude'], df['end_station_longitude'])\n",
    "end_wall_time_3 = time.time()\n",
    "end_CPU_time_3 = time.process_time()\n",
    "execution_wall_time_3 = end_wall_time_3 - wall_time_3\n",
    "execution_CPU_time_3 = end_CPU_time_3 - CPU_time_3\n",
    "benchmarking_results.append(['Vectorizing without values', execution_wall_time_3, execution_CPU_time_3])"
   ]
  },
  {
   "cell_type": "markdown",
   "metadata": {},
   "source": [
    "Lets try numpy vectorize"
   ]
  },
  {
   "cell_type": "code",
   "execution_count": 8,
   "metadata": {},
   "outputs": [],
   "source": [
    "wall_time_4 = time.time()\n",
    "CPU_time_4 = time.process_time()\n",
    "df['distance'] = haversine(df['start_station_latitude'], df['start_station_longitude'], \\\n",
    "                                 df['end_station_latitude'].values, df['end_station_longitude'].values)\n",
    "end_wall_time_4 = time.time()\n",
    "end_CPU_time_4 = time.process_time()\n",
    "execution_wall_time_4 = end_wall_time_4 - wall_time_4\n",
    "execution_CPU_time_4 = end_CPU_time_4 - CPU_time_4\n",
    "benchmarking_results.append(['Vectorizing with values method', execution_wall_time_3, execution_CPU_time_3])"
   ]
  },
  {
   "cell_type": "markdown",
   "metadata": {},
   "source": [
    "Is there anything you can do to the cell above to further improve the performance?  Look carefully!\n",
    "\n",
    "Create a table summarizing the performance results.  "
   ]
  },
  {
   "cell_type": "code",
   "execution_count": 9,
   "metadata": {},
   "outputs": [
    {
     "data": {
      "text/html": [
       "<div>\n",
       "<style scoped>\n",
       "    .dataframe tbody tr th:only-of-type {\n",
       "        vertical-align: middle;\n",
       "    }\n",
       "\n",
       "    .dataframe tbody tr th {\n",
       "        vertical-align: top;\n",
       "    }\n",
       "\n",
       "    .dataframe thead th {\n",
       "        text-align: right;\n",
       "    }\n",
       "</style>\n",
       "<table border=\"1\" class=\"dataframe\">\n",
       "  <thead>\n",
       "    <tr style=\"text-align: right;\">\n",
       "      <th></th>\n",
       "      <th>Method</th>\n",
       "      <th>CPU Time (s)</th>\n",
       "      <th>Wall Time (s)</th>\n",
       "    </tr>\n",
       "  </thead>\n",
       "  <tbody>\n",
       "    <tr>\n",
       "      <th>0</th>\n",
       "      <td>Using the iterrows() method</td>\n",
       "      <td>27.007194</td>\n",
       "      <td>27.012193</td>\n",
       "    </tr>\n",
       "    <tr>\n",
       "      <th>1</th>\n",
       "      <td>Using the iloc() method</td>\n",
       "      <td>17.641447</td>\n",
       "      <td>17.646564</td>\n",
       "    </tr>\n",
       "    <tr>\n",
       "      <th>2</th>\n",
       "      <td>Vectorizing without values</td>\n",
       "      <td>0.023097</td>\n",
       "      <td>0.026989</td>\n",
       "    </tr>\n",
       "    <tr>\n",
       "      <th>3</th>\n",
       "      <td>Vectorizing with values method</td>\n",
       "      <td>0.023097</td>\n",
       "      <td>0.026989</td>\n",
       "    </tr>\n",
       "  </tbody>\n",
       "</table>\n",
       "</div>"
      ],
      "text/plain": [
       "                           Method  CPU Time (s)  Wall Time (s)\n",
       "0     Using the iterrows() method     27.007194      27.012193\n",
       "1         Using the iloc() method     17.641447      17.646564\n",
       "2      Vectorizing without values      0.023097       0.026989\n",
       "3  Vectorizing with values method      0.023097       0.026989"
      ]
     },
     "execution_count": 9,
     "metadata": {},
     "output_type": "execute_result"
    }
   ],
   "source": [
    "benchmark_df = pd.DataFrame(benchmarking_results, columns=[\"Method\", \"CPU Time (s)\", \"Wall Time (s)\"])\n",
    "benchmark_df"
   ]
  }
 ],
 "metadata": {
  "kernelspec": {
   "display_name": "Python 3 (ipykernel)",
   "language": "python",
   "name": "python3"
  },
  "language_info": {
   "codemirror_mode": {
    "name": "ipython",
    "version": 3
   },
   "file_extension": ".py",
   "mimetype": "text/x-python",
   "name": "python",
   "nbconvert_exporter": "python",
   "pygments_lexer": "ipython3",
   "version": "3.10.12"
  }
 },
 "nbformat": 4,
 "nbformat_minor": 4
}
